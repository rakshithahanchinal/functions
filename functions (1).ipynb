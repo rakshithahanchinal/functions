{
  "nbformat": 4,
  "nbformat_minor": 0,
  "metadata": {
    "colab": {
      "provenance": []
    },
    "kernelspec": {
      "name": "python3",
      "display_name": "Python 3"
    },
    "language_info": {
      "name": "python"
    }
  },
  "cells": [
    {
      "cell_type": "code",
      "execution_count": null,
      "metadata": {
        "id": "_UGeKH0bhEVy"
      },
      "outputs": [],
      "source": [
        "\n"
      ]
    },
    {
      "cell_type": "markdown",
      "source": [
        " #FUNCTIONS\n",
        "\n",
        " 1. What is the difference between a function and a method in Python?\n",
        " - Functions:\n",
        "  - Definition: A function is a block of code designed to perform a specific task.  \n",
        "  - Calling: Functions are called by name, like my_function(argument1, argument2).\n",
        "  - Scope: Functions can be defined outside of any class, making them independent.\n",
        "  - Data: Functions can take data as input (parameters) and can return data (return value).\n",
        "  \n",
        " -  Methods:\n",
        "  - Definition:\n",
        "A method is a function that is defined within a class and is associated with an object (instance of a class).\n",
        "-Calling:\n",
        "Methods are called using dot notation, e.g., my_object.my_method(argument1, argument2).\n",
        "Scope:\n",
        "-Methods are always defined inside a class and are linked to the objects of that class.\n",
        "-Data:\n",
        "Methods are implicitly passed the object on which they are called as the first argument (conventionally named self).\n",
        "Example:"
      ],
      "metadata": {
        "id": "Q-10g-j7hQ3U"
      }
    },
    {
      "cell_type": "code",
      "source": [
        "# example for functions\n",
        "def greet(name):\n",
        "        print(f\"Hello, {name}!\")\n",
        "greet(\"Alice\") # Calling the function"
      ],
      "metadata": {
        "colab": {
          "base_uri": "https://localhost:8080/"
        },
        "id": "Ftow9tfVj8n_",
        "outputId": "e3ac73d3-8cee-480a-f872-97b8156c9500"
      },
      "execution_count": 3,
      "outputs": [
        {
          "output_type": "stream",
          "name": "stdout",
          "text": [
            "Hello, Alice!\n"
          ]
        }
      ]
    },
    {
      "cell_type": "code",
      "source": [
        "#example for methods\n",
        "class Person:\n",
        "    def __init__(self, name):\n",
        "        self.name = name\n",
        "    def greet(self):\n",
        "        print(f\"Hello, {self.name}!\")\n",
        "person = Person(\"Bob\")\n",
        "person.greet() # Calling the method"
      ],
      "metadata": {
        "colab": {
          "base_uri": "https://localhost:8080/"
        },
        "id": "jeNRe73ykqE-",
        "outputId": "d56b001c-8077-4a01-a73a-af94624a1a37"
      },
      "execution_count": 4,
      "outputs": [
        {
          "output_type": "stream",
          "name": "stdout",
          "text": [
            "Hello, Bob!\n"
          ]
        }
      ]
    },
    {
      "cell_type": "markdown",
      "source": [
        "2. Explain the concept of function arguments and parameters in Python\n",
        "- In Python, parameters are placeholders defined in a function's definition, while arguments are the actual values passed to the function when it's called.\n",
        "Here's a more detailed explanation:\n",
        "- Parameters:\n",
        "  - Definition: Parameters are variables that are listed inside the parentheses of a function definition.\n",
        "  - Purpose: They act as placeholders to receive values from the function call.\n",
        "  - Example: In the function def greet(name, greeting):, name and greeting are parameters.\n",
        "- Arguments:\n",
        "  - Definition: Arguments are the values that are passed to the function when it is called.\n",
        "  - Purpose: They provide the actual data that the function will work with.\n",
        "  - Example: In the function call greet(\"Alice\", \"Hello\"), \"Alice\" and \"Hello\" are arguments.\n",
        "\n",
        "3. What are the different ways to define and call a function in Python?\n",
        "- 1. Defining a Function:\n",
        "  - def keyword: You start defining a function with the def keyword.\n",
        "  - Function name: Choose a descriptive name for your function.\n",
        "  - Parentheses: Use parentheses () to enclose any arguments the function will accept.\n",
        "  - Colon: End the function definition line with a colon :.\n",
        "  - Indentation: The code block that constitutes the function's body must be indented (usually with four spaces).\n",
        "\n",
        "- 2. Calling a Function:\n",
        "  - Function name: Use the name of the function you defined.\n",
        "  - Parentheses: Include parentheses () after the function name.\n",
        "  - Arguments: If the function expects arguments, provide them inside the parentheses, separated by commas.\n",
        "\n",
        "- 3. Return Statement:\n",
        "  - return keyword: Use the return keyword to specify the value a function should return.\n",
        "  - Optional value: You can optionally provide a value after the return keyword.\n",
        "  - Ending execution: The return statement ends the function's execution and sends the specified value back to the caller.\n",
        "\n",
        "- 4. Argument Types:\n",
        "  - Positional Arguments: Arguments passed to a function based on their position or order.\n",
        "  - Keyword Arguments: Arguments passed to a function by specifying the parameter name.\n",
        "  - Default Arguments: Arguments that have a default value if not provided when calling the function.\n",
        "  - Variable-length arguments: Functions that can take a variable number of arguments using *args (for positional arguments) or **kwargs (for keyword arguments).\n",
        "  - Positional-only arguments: Arguments that can only be passed positionally and not as keyword arguments (introduced in Python 3.8).\n",
        "  - Keyword-only arguments: Arguments that can only be passed as keyword arguments.\n",
        "\n",
        "- 5. Nested Functions (Closures):\n",
        "  - Inner function: You can define a function inside another function.\n",
        "  - Access to outer scope: Inner functions can access variables from the enclosing scope (outer function).\n",
        "  - Scope: Inner functions are not directly accessible from outside the outer function.\n"
      ],
      "metadata": {
        "id": "zdQhsWt3k5Km"
      }
    },
    {
      "cell_type": "code",
      "source": [
        "# example for defining a function\n",
        "def greet(name):  # Define a function named 'greet' that takes a 'name' argument\n",
        "    print(f\"Hello, {name}!\") # Function body: prints a greeting\n",
        "\n",
        "# example for calling a function\n",
        "greet(\"Alice\")  # Call the 'greet' function, passing \"Alice\" as the argument"
      ],
      "metadata": {
        "colab": {
          "base_uri": "https://localhost:8080/"
        },
        "id": "ar7UmJRMn4i7",
        "outputId": "008d3d87-902b-42fd-8658-3024aa91ef37"
      },
      "execution_count": 15,
      "outputs": [
        {
          "output_type": "stream",
          "name": "stdout",
          "text": [
            "Hello, Alice!\n"
          ]
        }
      ]
    },
    {
      "cell_type": "code",
      "source": [
        "# example for return syatement\n",
        "def add(x, y):\n",
        "    return x + y  # Return the sum of x and y\n",
        "\n",
        "result = add(5, 3) # Call the function and store the returned value\n",
        "print(result) # Output: 8"
      ],
      "metadata": {
        "colab": {
          "base_uri": "https://localhost:8080/"
        },
        "id": "Gwf1caTRpFSs",
        "outputId": "6bb053e4-3a0e-46e8-d33c-e9c977b8675c"
      },
      "execution_count": 16,
      "outputs": [
        {
          "output_type": "stream",
          "name": "stdout",
          "text": [
            "8\n"
          ]
        }
      ]
    },
    {
      "cell_type": "code",
      "source": [
        "# example for argument types\n",
        "def my_function(arg1, arg2, arg3=10, *args, **kwargs): # Function definition with various argument types\n",
        "    print(f\"arg1: {arg1}, arg2: {arg2}, arg3: {arg3}\")\n",
        "    print(f\"args: {args}, kwargs: {kwargs}\")\n",
        "\n",
        "my_function(1, 2, 3, 4, 5, a=6, b=7) # Calling the function with different types of arguments\n",
        "#Output:\n",
        "#arg1: 1, arg2: 2, arg3: 3\n",
        "#args: (4, 5), kwargs: {'a': 6, 'b': 7}"
      ],
      "metadata": {
        "colab": {
          "base_uri": "https://localhost:8080/"
        },
        "id": "skhdTOm0qPHP",
        "outputId": "501ab2bf-7edc-4c8a-8cd4-0488c94bd3f5"
      },
      "execution_count": 17,
      "outputs": [
        {
          "output_type": "stream",
          "name": "stdout",
          "text": [
            "arg1: 1, arg2: 2, arg3: 3\n",
            "args: (4, 5), kwargs: {'a': 6, 'b': 7}\n"
          ]
        }
      ]
    },
    {
      "cell_type": "code",
      "source": [
        "# example for nested function\n",
        "def outer_function():\n",
        "    x = \"Hello\"\n",
        "\n",
        "    def inner_function():\n",
        "        print(x) # Accessing variable x from the outer scope\n",
        "    inner_function()\n",
        "\n",
        "outer_function() # Output: Hello"
      ],
      "metadata": {
        "colab": {
          "base_uri": "https://localhost:8080/"
        },
        "id": "07GrcWHpqcv5",
        "outputId": "60b54051-ceb3-4946-8a42-57f7050e666b"
      },
      "execution_count": 18,
      "outputs": [
        {
          "output_type": "stream",
          "name": "stdout",
          "text": [
            "Hello\n"
          ]
        }
      ]
    },
    {
      "cell_type": "markdown",
      "source": [
        "4.. What is the purpose of the `return` statement in a Python function\n",
        "-  return statement in a Python function serves to terminate the function's execution and send a value back to the caller. This allows the function's output to be used or stored for further processing."
      ],
      "metadata": {
        "id": "6ZvlS2tHquZm"
      }
    },
    {
      "cell_type": "code",
      "source": [
        "\n",
        "\n",
        "def add_numbers(x, y):\n",
        "  \"\"\"This function adds two numbers and returns the result.\"\"\"\n",
        "  result = x + y\n",
        "  return result  # Returns the calculated sum\n",
        "\n",
        "sum_result = add_numbers(5, 3)\n",
        "print(sum_result)  # Output: 8\n"
      ],
      "metadata": {
        "colab": {
          "base_uri": "https://localhost:8080/"
        },
        "id": "CilnD5burLxv",
        "outputId": "8bb7b64a-5b6a-414c-e3d0-ec25201551d5"
      },
      "execution_count": 21,
      "outputs": [
        {
          "output_type": "stream",
          "name": "stdout",
          "text": [
            "8\n"
          ]
        }
      ]
    },
    {
      "cell_type": "markdown",
      "source": [
        "5. What are iterators in Python and how do they differ from iterables\n",
        " - An Iterable is basically an object that any user can iterate over. An Iterator is also an object that helps a user in iterating over another object (that is iterable). We can generate an iterator when we pass the object to the iter() method."
      ],
      "metadata": {
        "id": "1UFqDFGUsBXs"
      }
    },
    {
      "cell_type": "code",
      "source": [
        "# prompt: example for iterable and iterator\n",
        "\n",
        "# Example of an iterable (a list)\n",
        "my_list = [1, 2, 3, 4, 5]\n",
        "\n",
        "# Get an iterator from the iterable\n",
        "my_iterator = iter(my_list)\n",
        "\n",
        "# Iterate using the iterator\n",
        "print(next(my_iterator))  # Output: 1\n",
        "print(next(my_iterator))  # Output: 2\n",
        "print(next(my_iterator))  # Output: 3\n",
        "\n",
        "# You can also iterate using a for loop (which implicitly uses an iterator)\n",
        "for item in my_list:\n",
        "    print(item)\n",
        "\n",
        "\n",
        "#Example of a custom iterator\n",
        "class MyIterator:\n",
        "    def __init__(self, max_value):\n",
        "        self.current = 0\n",
        "        self.max = max_value\n",
        "\n",
        "    def __iter__(self):\n",
        "        return self\n",
        "\n",
        "    def __next__(self):\n",
        "        if self.current < self.max:\n",
        "            value = self.current\n",
        "            self.current += 1\n",
        "            return value\n",
        "        else:\n",
        "            raise StopIteration\n",
        "\n",
        "# Create an instance of the custom iterator\n",
        "my_custom_iterator = MyIterator(5)\n",
        "\n",
        "# Iterate over the custom iterator\n",
        "for item in my_custom_iterator:\n",
        "  item\n"
      ],
      "metadata": {
        "colab": {
          "base_uri": "https://localhost:8080/"
        },
        "id": "wo3o_RV3sWRv",
        "outputId": "ac57b6e3-a398-4546-a04b-7e223020da87"
      },
      "execution_count": 25,
      "outputs": [
        {
          "output_type": "stream",
          "name": "stdout",
          "text": [
            "1\n",
            "2\n",
            "3\n",
            "1\n",
            "2\n",
            "3\n",
            "4\n",
            "5\n"
          ]
        }
      ]
    },
    {
      "cell_type": "markdown",
      "source": [
        "6. Explain the concept of generators in Python and how they are defined\n",
        "- a generator is a special type of function that produces a sequence of values on demand (lazily), rather than storing all values in memory at once, using the yield keyword instead of return.\n",
        "  - What they are: Generators are a type of iterator, allowing you to traverse a sequence of values one at a time.\n",
        "  - How they work:\n",
        "   - They are defined using the def keyword, just like regular functions.\n",
        "   - Instead of using return to return a value and terminate, they use yield to produce a value and pause execution.\n",
        "   - When a generator function is called, it returns a generator object, not the result of the function.\n",
        "    - The generator object can then be iterated over to retrieve the values generated by the function."
      ],
      "metadata": {
        "id": "1D1Ad2YItEjW"
      }
    },
    {
      "cell_type": "code",
      "source": [
        "    def my_generator(n):\n",
        "        for i in range(n):\n",
        "            yield i  # Yield each value\n",
        "\n",
        "    # Iterate over the generator\n",
        "    for value in my_generator(5):\n",
        "        print(value)"
      ],
      "metadata": {
        "colab": {
          "base_uri": "https://localhost:8080/"
        },
        "id": "izMQm6i5t8Rj",
        "outputId": "cac0cb55-afaf-4b3b-85cf-680591d0d700"
      },
      "execution_count": 26,
      "outputs": [
        {
          "output_type": "stream",
          "name": "stdout",
          "text": [
            "0\n",
            "1\n",
            "2\n",
            "3\n",
            "4\n"
          ]
        }
      ]
    },
    {
      "cell_type": "markdown",
      "source": [
        "7. What are the advantages of using generators over regular functions?\n",
        " - Unlike a regular function, a generator does not return its results all at once. Instead, it yields its values one by one, each time it is called. This makes it possible to generate an infinite sequence of values, as long as there is sufficient memory to store them.\n",
        "\n",
        " 8.  What is a lambda function in Python and when is it typically used?\n",
        "  - In Python, a lambda function is a small, anonymous function defined using the lambda keyword, typically used for short, single-use operations, often within other functions like map, filter, or sorted.\n",
        "  - Here's a breakdown:\n",
        "    - Anonymous: Lambda functions don't have a name (unless assigned to a variable).\n",
        "    - Single Expression: They can only contain a single expression, which is automatically returned.\n",
        "    - Syntax: lambda arguments: expression.\n",
        " - Use Cases:\n",
        "    - Concise Code: Ideal for simple operations where a full function definition would be overkill.\n",
        "    - Higher-Order Functions: Commonly used with functions like map, filter, and sorted to perform operations on iterables.\n",
        "    - Temporary Functions: Great for one-time use scenarios where you don't need a named function."
      ],
      "metadata": {
        "id": "Z9O1Nl7guCTO"
      }
    },
    {
      "cell_type": "code",
      "source": [
        "    numbers = [1, 2, 3, 4, 5, 6]\n",
        "    even_numbers = list(filter(lambda x: x % 2 == 0, numbers))\n",
        "    print(even_numbers)  # Output: [2, 4, 6]"
      ],
      "metadata": {
        "colab": {
          "base_uri": "https://localhost:8080/"
        },
        "id": "ApwAnQltwZ7k",
        "outputId": "6e8ed5ed-2677-4f23-c862-801258d1c721"
      },
      "execution_count": 27,
      "outputs": [
        {
          "output_type": "stream",
          "name": "stdout",
          "text": [
            "[2, 4, 6]\n"
          ]
        }
      ]
    },
    {
      "cell_type": "markdown",
      "source": [
        "9. Explain the purpose and usage of the `map()` function in Python.\n",
        " - Purpose:\n",
        "    - Applying a Function:\n",
        "    The core purpose of map() is to apply a function to every element of an iterable, without explicitly using a for loop.\n",
        "    - Transformation:\n",
        "It's useful when you need to transform each element of an iterable based on a specific rule or function.\n",
        "    - Functional Programming:\n",
        "map() promotes a functional programming style by allowing you to apply functions to data without modifying the original iterable.\n",
        "- usage\n",
        "Syntax:\n",
        "\n",
        "\n",
        "    map(function, iterable)\n",
        "     - function: The function to apply to each element of the iterable.\n",
        "     - iterable: The sequence or collection (list, tuple, string, etc.) whose elements will be processed."
      ],
      "metadata": {
        "id": "Ctqm2UCN1W1a"
      }
    },
    {
      "cell_type": "code",
      "source": [
        "    def square(x):\n",
        "        return x * x\n",
        "\n",
        "    numbers = [1, 2, 3, 4, 5]\n",
        "    squares = map(square, numbers)  # Apply 'square' function to each number\n",
        "\n",
        "    # Convert the map object to a list (or other sequence) to see the results\n",
        "    print(list(squares))  # Output: [1, 4, 9, 16, 25]"
      ],
      "metadata": {
        "colab": {
          "base_uri": "https://localhost:8080/"
        },
        "id": "s_4iziBZ3QEW",
        "outputId": "673c8e76-060d-41f4-e121-e312851c4ad6"
      },
      "execution_count": 28,
      "outputs": [
        {
          "output_type": "stream",
          "name": "stdout",
          "text": [
            "[1, 4, 9, 16, 25]\n"
          ]
        }
      ]
    },
    {
      "cell_type": "markdown",
      "source": [
        "10.  What is the difference between `map()`, `reduce()`, and `filter()` functions in Python?\n",
        "- The map() Function\n",
        "The map() function iterates through all items in the given iterable and executes the function we passed as an argument on each of them.\n",
        "\n",
        "The syntax is:\n",
        "\n",
        "map(function, iterable(s))\n",
        "\n",
        " -  The filter() Function\n",
        "Similar to map(), filter() takes a function object and an iterable and creates a new list.\n",
        "\n",
        "As the name suggests, filter() forms a new list that contains only elements that satisfy a certain condition, i.e. the function we passed returns True.\n",
        "\n",
        "The syntax is:\n",
        "\n",
        "filter(function, iterable(s))\n",
        "\n",
        " -  The reduce() Function\n",
        "reduce() works differently than map() and filter(). It does not return a new list based on the function and iterable we've passed. Instead, it returns a single value.\n",
        "\n",
        "Also, in Python 3 reduce() isn't a built-in function anymore, and it can be found in the functools module.\n",
        "\n",
        "The syntax is:\n",
        "\n",
        "reduce(function, sequence[, initial])"
      ],
      "metadata": {
        "id": "4WxBfmWy3be1"
      }
    },
    {
      "cell_type": "code",
      "source": [
        "# example for map\n",
        "# Without using lambdas\n",
        " # Without using lambdas\n",
        "def starts_with_A(s):\n",
        "    return s[0] == \"A\"\n",
        "\n",
        "fruit = [\"Apple\", \"Banana\", \"Pear\", \"Apricot\", \"Orange\"]\n",
        "map_object = map(starts_with_A, fruit)\n",
        "\n",
        "print(list(map_object))"
      ],
      "metadata": {
        "colab": {
          "base_uri": "https://localhost:8080/"
        },
        "id": "_tzs7IG244ZX",
        "outputId": "5b3a1ce5-fcae-4677-def3-62b4a8acf475"
      },
      "execution_count": 34,
      "outputs": [
        {
          "output_type": "stream",
          "name": "stdout",
          "text": [
            "[True, False, False, True, False]\n"
          ]
        }
      ]
    },
    {
      "cell_type": "code",
      "source": [
        "# example for filter\n",
        "# Without using lambdas\n",
        "def starts_with_A(s):\n",
        "    return s[0] == \"A\"\n",
        "\n",
        "fruit = [\"Apple\", \"Banana\", \"Pear\", \"Apricot\", \"Orange\"]\n",
        "filter_object = filter(starts_with_A, fruit)\n",
        "\n",
        "print(list(filter_object))"
      ],
      "metadata": {
        "colab": {
          "base_uri": "https://localhost:8080/"
        },
        "id": "_gg9Jr1D5yDo",
        "outputId": "186d9d6c-793d-45f0-83f6-5a3908492d24"
      },
      "execution_count": 35,
      "outputs": [
        {
          "output_type": "stream",
          "name": "stdout",
          "text": [
            "['Apple', 'Apricot']\n"
          ]
        }
      ]
    },
    {
      "cell_type": "code",
      "source": [
        "# example for reduce\n",
        "from functools import reduce\n",
        "\n",
        "def add(x, y):\n",
        "    return x + y\n",
        "\n",
        "list = [2, 4, 7, 3]\n",
        "print(reduce(add, list))"
      ],
      "metadata": {
        "colab": {
          "base_uri": "https://localhost:8080/"
        },
        "id": "ONAuomzY5yHG",
        "outputId": "e593ab8b-4ab9-4b88-df49-0a09d387cff2"
      },
      "execution_count": 36,
      "outputs": [
        {
          "output_type": "stream",
          "name": "stdout",
          "text": [
            "16\n"
          ]
        }
      ]
    },
    {
      "cell_type": "markdown",
      "source": [
        "11. Using pen & Paper write the internal mechanism for sum operation using reduce function on this given\n",
        "list:[47,11,42,13]\n",
        " -"
      ],
      "metadata": {
        "id": "_KjPvWIU7JdA"
      }
    },
    {
      "cell_type": "code",
      "source": [
        "from google.colab import files\n",
        "from IPython.display import Image"
      ],
      "metadata": {
        "id": "Rb0rf-wiCpXg"
      },
      "execution_count": 37,
      "outputs": []
    },
    {
      "cell_type": "code",
      "source": [
        "uploaded=files.upload()\n"
      ],
      "metadata": {
        "colab": {
          "base_uri": "https://localhost:8080/",
          "height": 73
        },
        "id": "Ct53zIbQDQ-B",
        "outputId": "2d93fe14-f9bf-4113-e1dd-73c9b3c3028f"
      },
      "execution_count": 38,
      "outputs": [
        {
          "output_type": "display_data",
          "data": {
            "text/plain": [
              "<IPython.core.display.HTML object>"
            ],
            "text/html": [
              "\n",
              "     <input type=\"file\" id=\"files-b3a7fcea-b9a5-46a6-9f05-bb475e2cbaa2\" name=\"files[]\" multiple disabled\n",
              "        style=\"border:none\" />\n",
              "     <output id=\"result-b3a7fcea-b9a5-46a6-9f05-bb475e2cbaa2\">\n",
              "      Upload widget is only available when the cell has been executed in the\n",
              "      current browser session. Please rerun this cell to enable.\n",
              "      </output>\n",
              "      <script>// Copyright 2017 Google LLC\n",
              "//\n",
              "// Licensed under the Apache License, Version 2.0 (the \"License\");\n",
              "// you may not use this file except in compliance with the License.\n",
              "// You may obtain a copy of the License at\n",
              "//\n",
              "//      http://www.apache.org/licenses/LICENSE-2.0\n",
              "//\n",
              "// Unless required by applicable law or agreed to in writing, software\n",
              "// distributed under the License is distributed on an \"AS IS\" BASIS,\n",
              "// WITHOUT WARRANTIES OR CONDITIONS OF ANY KIND, either express or implied.\n",
              "// See the License for the specific language governing permissions and\n",
              "// limitations under the License.\n",
              "\n",
              "/**\n",
              " * @fileoverview Helpers for google.colab Python module.\n",
              " */\n",
              "(function(scope) {\n",
              "function span(text, styleAttributes = {}) {\n",
              "  const element = document.createElement('span');\n",
              "  element.textContent = text;\n",
              "  for (const key of Object.keys(styleAttributes)) {\n",
              "    element.style[key] = styleAttributes[key];\n",
              "  }\n",
              "  return element;\n",
              "}\n",
              "\n",
              "// Max number of bytes which will be uploaded at a time.\n",
              "const MAX_PAYLOAD_SIZE = 100 * 1024;\n",
              "\n",
              "function _uploadFiles(inputId, outputId) {\n",
              "  const steps = uploadFilesStep(inputId, outputId);\n",
              "  const outputElement = document.getElementById(outputId);\n",
              "  // Cache steps on the outputElement to make it available for the next call\n",
              "  // to uploadFilesContinue from Python.\n",
              "  outputElement.steps = steps;\n",
              "\n",
              "  return _uploadFilesContinue(outputId);\n",
              "}\n",
              "\n",
              "// This is roughly an async generator (not supported in the browser yet),\n",
              "// where there are multiple asynchronous steps and the Python side is going\n",
              "// to poll for completion of each step.\n",
              "// This uses a Promise to block the python side on completion of each step,\n",
              "// then passes the result of the previous step as the input to the next step.\n",
              "function _uploadFilesContinue(outputId) {\n",
              "  const outputElement = document.getElementById(outputId);\n",
              "  const steps = outputElement.steps;\n",
              "\n",
              "  const next = steps.next(outputElement.lastPromiseValue);\n",
              "  return Promise.resolve(next.value.promise).then((value) => {\n",
              "    // Cache the last promise value to make it available to the next\n",
              "    // step of the generator.\n",
              "    outputElement.lastPromiseValue = value;\n",
              "    return next.value.response;\n",
              "  });\n",
              "}\n",
              "\n",
              "/**\n",
              " * Generator function which is called between each async step of the upload\n",
              " * process.\n",
              " * @param {string} inputId Element ID of the input file picker element.\n",
              " * @param {string} outputId Element ID of the output display.\n",
              " * @return {!Iterable<!Object>} Iterable of next steps.\n",
              " */\n",
              "function* uploadFilesStep(inputId, outputId) {\n",
              "  const inputElement = document.getElementById(inputId);\n",
              "  inputElement.disabled = false;\n",
              "\n",
              "  const outputElement = document.getElementById(outputId);\n",
              "  outputElement.innerHTML = '';\n",
              "\n",
              "  const pickedPromise = new Promise((resolve) => {\n",
              "    inputElement.addEventListener('change', (e) => {\n",
              "      resolve(e.target.files);\n",
              "    });\n",
              "  });\n",
              "\n",
              "  const cancel = document.createElement('button');\n",
              "  inputElement.parentElement.appendChild(cancel);\n",
              "  cancel.textContent = 'Cancel upload';\n",
              "  const cancelPromise = new Promise((resolve) => {\n",
              "    cancel.onclick = () => {\n",
              "      resolve(null);\n",
              "    };\n",
              "  });\n",
              "\n",
              "  // Wait for the user to pick the files.\n",
              "  const files = yield {\n",
              "    promise: Promise.race([pickedPromise, cancelPromise]),\n",
              "    response: {\n",
              "      action: 'starting',\n",
              "    }\n",
              "  };\n",
              "\n",
              "  cancel.remove();\n",
              "\n",
              "  // Disable the input element since further picks are not allowed.\n",
              "  inputElement.disabled = true;\n",
              "\n",
              "  if (!files) {\n",
              "    return {\n",
              "      response: {\n",
              "        action: 'complete',\n",
              "      }\n",
              "    };\n",
              "  }\n",
              "\n",
              "  for (const file of files) {\n",
              "    const li = document.createElement('li');\n",
              "    li.append(span(file.name, {fontWeight: 'bold'}));\n",
              "    li.append(span(\n",
              "        `(${file.type || 'n/a'}) - ${file.size} bytes, ` +\n",
              "        `last modified: ${\n",
              "            file.lastModifiedDate ? file.lastModifiedDate.toLocaleDateString() :\n",
              "                                    'n/a'} - `));\n",
              "    const percent = span('0% done');\n",
              "    li.appendChild(percent);\n",
              "\n",
              "    outputElement.appendChild(li);\n",
              "\n",
              "    const fileDataPromise = new Promise((resolve) => {\n",
              "      const reader = new FileReader();\n",
              "      reader.onload = (e) => {\n",
              "        resolve(e.target.result);\n",
              "      };\n",
              "      reader.readAsArrayBuffer(file);\n",
              "    });\n",
              "    // Wait for the data to be ready.\n",
              "    let fileData = yield {\n",
              "      promise: fileDataPromise,\n",
              "      response: {\n",
              "        action: 'continue',\n",
              "      }\n",
              "    };\n",
              "\n",
              "    // Use a chunked sending to avoid message size limits. See b/62115660.\n",
              "    let position = 0;\n",
              "    do {\n",
              "      const length = Math.min(fileData.byteLength - position, MAX_PAYLOAD_SIZE);\n",
              "      const chunk = new Uint8Array(fileData, position, length);\n",
              "      position += length;\n",
              "\n",
              "      const base64 = btoa(String.fromCharCode.apply(null, chunk));\n",
              "      yield {\n",
              "        response: {\n",
              "          action: 'append',\n",
              "          file: file.name,\n",
              "          data: base64,\n",
              "        },\n",
              "      };\n",
              "\n",
              "      let percentDone = fileData.byteLength === 0 ?\n",
              "          100 :\n",
              "          Math.round((position / fileData.byteLength) * 100);\n",
              "      percent.textContent = `${percentDone}% done`;\n",
              "\n",
              "    } while (position < fileData.byteLength);\n",
              "  }\n",
              "\n",
              "  // All done.\n",
              "  yield {\n",
              "    response: {\n",
              "      action: 'complete',\n",
              "    }\n",
              "  };\n",
              "}\n",
              "\n",
              "scope.google = scope.google || {};\n",
              "scope.google.colab = scope.google.colab || {};\n",
              "scope.google.colab._files = {\n",
              "  _uploadFiles,\n",
              "  _uploadFilesContinue,\n",
              "};\n",
              "})(self);\n",
              "</script> "
            ]
          },
          "metadata": {}
        },
        {
          "output_type": "stream",
          "name": "stdout",
          "text": [
            "Saving code.jpg to code.jpg\n"
          ]
        }
      ]
    },
    {
      "cell_type": "code",
      "source": [
        "Image('code.jpg',width=400 )"
      ],
      "metadata": {
        "colab": {
          "base_uri": "https://localhost:8080/",
          "height": 318
        },
        "id": "BMK70lGBDhcg",
        "outputId": "1dd5db1d-51fe-4f9b-d65d-a26d8d74c59d"
      },
      "execution_count": 39,
      "outputs": [
        {
          "output_type": "execute_result",
          "data": {
            "image/jpeg": "[encoded data removed]",
            "text/plain": [
              "<IPython.core.display.Image object>"
            ]
          },
          "metadata": {
            "image/jpeg": {
              "width": 400
            }
          },
          "execution_count": 39
        }
      ]
    },
    {
      "cell_type": "markdown",
      "source": [
        "#PRACTICAL QUESTIONS"
      ],
      "metadata": {
        "id": "KyvwNlLgEV6Q"
      }
    },
    {
      "cell_type": "code",
      "source": [
        "# 1. Write a Python function that takes a list of numbers as input and returns the sum of all even numbers in the list.\n",
        "\n",
        "def sum_of_evens(numbers):\n",
        "    return sum(num for num in numbers if num % 2 == 0)\n",
        "\n",
        "# Example usage\n",
        "numbers = [1, 2, 3, 4, 5, 6]\n",
        "print(sum_of_evens(numbers))  # Output: 12\n"
      ],
      "metadata": {
        "colab": {
          "base_uri": "https://localhost:8080/"
        },
        "id": "-9FErr9cEfIq",
        "outputId": "64acc4f8-ff5f-4787-fb11-66c83b2a09c9"
      },
      "execution_count": 63,
      "outputs": [
        {
          "output_type": "stream",
          "name": "stdout",
          "text": [
            "12\n"
          ]
        }
      ]
    },
    {
      "cell_type": "code",
      "source": [
        "# prompt: 2. Create a Python function that accepts a string and returns the reverse of that string.\n",
        "\n",
        "def reverse_string(input_string):\n",
        "  \"\"\"Reverses a given string.\n",
        "\n",
        "  Args:\n",
        "    input_string: The string to be reversed.\n",
        "\n",
        "  Returns:\n",
        "    The reversed string.\n",
        "  \"\"\"\n",
        "  return input_string[::-1]\n",
        "input_string = \"Hello, World!\"\n",
        "result=reverse_string(input_string)\n",
        "print(result)\n"
      ],
      "metadata": {
        "colab": {
          "base_uri": "https://localhost:8080/"
        },
        "id": "Gua-DICgEfNm",
        "outputId": "43918ae7-8991-40c7-e844-29358dfcb53a"
      },
      "execution_count": 58,
      "outputs": [
        {
          "output_type": "stream",
          "name": "stdout",
          "text": [
            "!dlroW ,olleH\n"
          ]
        }
      ]
    },
    {
      "cell_type": "code",
      "source": [
        "# 3. Implement a Python function that takes a list of integers and returns a new list containing the squares of\n",
        "# each number.\n",
        "def square_numbers(numbers):\n",
        "    return [num ** 2 for num in numbers]\n",
        "\n",
        "# Example usage:\n",
        "numbers = [1, 2, 3, 4, 5]\n",
        "squared_numbers = square_numbers(numbers)\n",
        "print(squared_numbers)  # Output: [1, 4, 9, 16, 25]"
      ],
      "metadata": {
        "colab": {
          "base_uri": "https://localhost:8080/"
        },
        "id": "ZCLAV5_PI_pp",
        "outputId": "f2309acc-51d3-4973-e289-b168a80c3494"
      },
      "execution_count": 64,
      "outputs": [
        {
          "output_type": "stream",
          "name": "stdout",
          "text": [
            "[1, 4, 9, 16, 25]\n"
          ]
        }
      ]
    },
    {
      "cell_type": "code",
      "source": [
        "# 4. Write a Python function that checks if a given number is prime or not from 1 to 200.\n",
        "def is_prime(n):\n",
        "    \"\"\"Check if a number is prime (valid for numbers 1 to 200).\"\"\"\n",
        "    if n < 2:\n",
        "        return False\n",
        "    for i in range(2, int(n ** 0.5) + 1):\n",
        "        if n % i == 0:\n",
        "            return False\n",
        "    return True\n",
        "\n",
        "# Testing the function for numbers from 1 to 200\n",
        "prime_numbers = [n for n in range(1, 201) if is_prime(n)]\n",
        "print(\"Prime numbers from 1 to 200:\", prime_numbers)\n"
      ],
      "metadata": {
        "colab": {
          "base_uri": "https://localhost:8080/"
        },
        "id": "ASQWAnkJJRQk",
        "outputId": "1c9b33d4-6b93-4f51-8b2a-8b08d53afc8d"
      },
      "execution_count": 65,
      "outputs": [
        {
          "output_type": "stream",
          "name": "stdout",
          "text": [
            "Prime numbers from 1 to 200: [2, 3, 5, 7, 11, 13, 17, 19, 23, 29, 31, 37, 41, 43, 47, 53, 59, 61, 67, 71, 73, 79, 83, 89, 97, 101, 103, 107, 109, 113, 127, 131, 137, 139, 149, 151, 157, 163, 167, 173, 179, 181, 191, 193, 197, 199]\n"
          ]
        }
      ]
    },
    {
      "cell_type": "code",
      "source": [
        "# 5. Create an iterator class in Python that generates the Fibonacci sequence up to a specified number of terms.\n",
        "class FibonacciIterator:\n",
        "    def __init__(self, n_terms):\n",
        "        self.n_terms = n_terms\n",
        "        self.count = 0\n",
        "        self.a, self.b = 0, 1\n",
        "\n",
        "    def __iter__(self):\n",
        "        return self\n",
        "\n",
        "    def __next__(self):\n",
        "        if self.count >= self.n_terms:\n",
        "            raise StopIteration\n",
        "\n",
        "        if self.count == 0:\n",
        "            self.count += 1\n",
        "            return 0\n",
        "        elif self.count == 1:\n",
        "            self.count += 1\n",
        "            return 1\n",
        "\n",
        "        fib = self.a + self.b\n",
        "        self.a, self.b = self.b, fib\n",
        "        self.count += 1\n",
        "        return fib\n",
        "\n",
        "# Example usage\n",
        "n = 10  # Number of terms\n",
        "fib_iterator = FibonacciIterator(n)\n",
        "for num in fib_iterator:\n",
        "    print(num)\n"
      ],
      "metadata": {
        "colab": {
          "base_uri": "https://localhost:8080/"
        },
        "id": "r9GUckdkKkSn",
        "outputId": "edee3e26-4337-42f0-eb08-685b9f938550"
      },
      "execution_count": 66,
      "outputs": [
        {
          "output_type": "stream",
          "name": "stdout",
          "text": [
            "0\n",
            "1\n",
            "1\n",
            "2\n",
            "3\n",
            "5\n",
            "8\n",
            "13\n",
            "21\n",
            "34\n"
          ]
        }
      ]
    },
    {
      "cell_type": "code",
      "source": [
        "# 6. Write a generator function in Python that yields the powers of 2 up to a given exponent.\n",
        "def powers_of_2(max_exponent):\n",
        "    for exponent in range(max_exponent + 1):\n",
        "        yield 2 ** exponent\n",
        "\n",
        "# Example usage:\n",
        "for power in powers_of_2(5):\n",
        "    print(power)\n"
      ],
      "metadata": {
        "colab": {
          "base_uri": "https://localhost:8080/"
        },
        "id": "onASO-IEKkWM",
        "outputId": "33100d71-dbbc-40e9-d224-b576e97193e3"
      },
      "execution_count": 67,
      "outputs": [
        {
          "output_type": "stream",
          "name": "stdout",
          "text": [
            "1\n",
            "2\n",
            "4\n",
            "8\n",
            "16\n",
            "32\n"
          ]
        }
      ]
    },
    {
      "cell_type": "code",
      "source": [
        "# 7. Implement a generator function that reads a file line by line and yields each line as a string.\n",
        "\n",
        "def read_file_line_by_line(file_path):\n",
        "    \"\"\"\n",
        "    Reads a file line by line and yields each line as a string.\n",
        "    \"\"\"\n",
        "    try:\n",
        "        with open(file_path, 'r') as file:\n",
        "            for line in file:\n",
        "                yield line.strip()  # Remove leading/trailing whitespace\n",
        "    except FileNotFoundError:\n",
        "        print(f\"Error: File '{file_path}' not found.\")\n",
        "        return  # Exit the generator function if the file is not found\n"
      ],
      "metadata": {
        "id": "cz-mCSQpJRmt"
      },
      "execution_count": 74,
      "outputs": []
    },
    {
      "cell_type": "code",
      "source": [
        "# 8. Use a lambda function in Python to sort a list of tuples based on the second element of each tuple\n",
        "\n",
        "data = [('apple', 5), ('banana', 2), ('cherry', 8), ('date', 1)]\n",
        "sorted_data = sorted(data, key=lambda x: x[1])\n",
        "sorted_data\n"
      ],
      "metadata": {
        "colab": {
          "base_uri": "https://localhost:8080/"
        },
        "id": "W_8cUPHuOfc6",
        "outputId": "294876d4-4522-4afa-8adf-6b6e76cfdfb3"
      },
      "execution_count": 75,
      "outputs": [
        {
          "output_type": "execute_result",
          "data": {
            "text/plain": [
              "[('date', 1), ('banana', 2), ('apple', 5), ('cherry', 8)]"
            ]
          },
          "metadata": {},
          "execution_count": 75
        }
      ]
    },
    {
      "cell_type": "code",
      "source": [
        "# 9.. Write a Python program that uses `map()` to convert a list of temperatures from Celsius to Fahrenheit.\n",
        "# Function to convert Celsius to Fahrenheit\n",
        "def celsius_to_fahrenheit(celsius):\n",
        "    return (celsius * 9/5) + 32\n",
        "\n",
        "# List of temperatures in Celsius\n",
        "celsius_temperatures = [0, 20, 37, 100]\n",
        "\n",
        "# Using map() to convert to Fahrenheit\n",
        "fahrenheit_temperatures = list(map(celsius_to_fahrenheit, celsius_temperatures))\n",
        "\n",
        "# Display the result\n",
        "print(\"Temperatures in Fahrenheit:\", fahrenheit_temperatures)\n"
      ],
      "metadata": {
        "colab": {
          "base_uri": "https://localhost:8080/",
          "height": 211
        },
        "id": "BUk2FYflPvYc",
        "outputId": "481c3e55-ea25-48db-eb78-1eed3884c26e"
      },
      "execution_count": 78,
      "outputs": [
        {
          "output_type": "error",
          "ename": "TypeError",
          "evalue": "'list' object is not callable",
          "traceback": [
            "\u001b[0;31m---------------------------------------------------------------------------\u001b[0m",
            "\u001b[0;31mTypeError\u001b[0m                                 Traceback (most recent call last)",
            "\u001b[0;32m<ipython-input-78-4a442766d006>\u001b[0m in \u001b[0;36m<cell line: 0>\u001b[0;34m()\u001b[0m\n\u001b[1;32m      7\u001b[0m \u001b[0;34m\u001b[0m\u001b[0m\n\u001b[1;32m      8\u001b[0m \u001b[0;31m# Using map() to convert to Fahrenheit\u001b[0m\u001b[0;34m\u001b[0m\u001b[0;34m\u001b[0m\u001b[0m\n\u001b[0;32m----> 9\u001b[0;31m \u001b[0mfahrenheit_temperatures\u001b[0m \u001b[0;34m=\u001b[0m \u001b[0mlist\u001b[0m\u001b[0;34m(\u001b[0m\u001b[0mmap\u001b[0m\u001b[0;34m(\u001b[0m\u001b[0mcelsius_to_fahrenheit\u001b[0m\u001b[0;34m,\u001b[0m \u001b[0mcelsius_temperatures\u001b[0m\u001b[0;34m)\u001b[0m\u001b[0;34m)\u001b[0m\u001b[0;34m\u001b[0m\u001b[0;34m\u001b[0m\u001b[0m\n\u001b[0m\u001b[1;32m     10\u001b[0m \u001b[0;34m\u001b[0m\u001b[0m\n\u001b[1;32m     11\u001b[0m \u001b[0;31m# Display the result\u001b[0m\u001b[0;34m\u001b[0m\u001b[0;34m\u001b[0m\u001b[0m\n",
            "\u001b[0;31mTypeError\u001b[0m: 'list' object is not callable"
          ]
        }
      ]
    },
    {
      "cell_type": "code",
      "source": [
        "# 10. Create a Python program that uses `filter()` to remove all the vowels from a given string.\n",
        "\n",
        "def remove_vowels(string):\n",
        "  vowels = \"aeiouAEIOU\"\n",
        "  return \"\".join(filter(lambda char: char not in vowels, string))\n",
        "  string = \"Hello, World!\"\n",
        "  result = remove_vowels(string)\n",
        "print(result)\n"
      ],
      "metadata": {
        "colab": {
          "base_uri": "https://localhost:8080/"
        },
        "id": "imRj0zA7QEH4",
        "outputId": "96e735c3-47e0-4905-a351-1b5c6e752f6f"
      },
      "execution_count": 83,
      "outputs": [
        {
          "output_type": "stream",
          "name": "stdout",
          "text": [
            "!dlroW ,olleH\n"
          ]
        }
      ]
    },
    {
      "cell_type": "code",
      "source": [
        "'''11) Imagine an accounting routine used in a book shop. It works on a list with sublists, which look like this:\n",
        "\n",
        "\n",
        "\n",
        "\n",
        "\n",
        "\n",
        "\n",
        "Write a Python program, which returns a list with 2-tuples. Each tuple consists of the order number and the\n",
        "product of the price per item and the quantity. The product should be increased by 10,- € if the value of the\n",
        "order is smaller than 100,00 €.\n",
        "\n",
        "Write a Python program using lambda and map.\n",
        "\n",
        "'''\n",
        "orders = {\n",
        "    34587: {\"Book Title and Author\": \"Learning Python, Mark Lutz\", \"Quantity\": 4, \"Price per Item\": 40.95},\n",
        "    98762: {\"Book Title and Author\": \"Programming Python, Mark Lutz\", \"Quantity\": 5, \"Price per Item\": 56.80},\n",
        "    77226: {\"Book Title and Author\": \"Head First Python, Paul Barry\", \"Quantity\": 3, \"Price per Item\": 32.95},\n",
        "    88112: {\"Book Title and Author\": \"Einführung in Python3, Bernd Klein\", \"Quantity\": 3, \"Price per Item\": 24.99}\n",
        "}\n",
        "\n",
        "# Using map and lambda to create a list of 2-tuples\n",
        "order_totals = list(map(\n",
        "    lambda item: (item[0], (item[1][\"Quantity\"] * item[1][\"Price per Item\"]) +\n",
        "                  (10 if (item[1][\"Quantity\"] * item[1][\"Price per Item\"]) < 100 else 0)),\n",
        "    orders.items()\n",
        "))\n",
        "\n",
        "print(order_totals)"
      ],
      "metadata": {
        "colab": {
          "base_uri": "https://localhost:8080/",
          "height": 211
        },
        "id": "jGG8qf95QELR",
        "outputId": "1be4cfcc-2043-4540-8e7a-9ab2b33a69f7"
      },
      "execution_count": 84,
      "outputs": [
        {
          "output_type": "error",
          "ename": "TypeError",
          "evalue": "'list' object is not callable",
          "traceback": [
            "\u001b[0;31m---------------------------------------------------------------------------\u001b[0m",
            "\u001b[0;31mTypeError\u001b[0m                                 Traceback (most recent call last)",
            "\u001b[0;32m<ipython-input-84-c4d81c5588ab>\u001b[0m in \u001b[0;36m<cell line: 0>\u001b[0;34m()\u001b[0m\n\u001b[1;32m      7\u001b[0m \u001b[0;34m\u001b[0m\u001b[0m\n\u001b[1;32m      8\u001b[0m \u001b[0;31m# Using map and lambda to create a list of 2-tuples\u001b[0m\u001b[0;34m\u001b[0m\u001b[0;34m\u001b[0m\u001b[0m\n\u001b[0;32m----> 9\u001b[0;31m order_totals = list(map(\n\u001b[0m\u001b[1;32m     10\u001b[0m     lambda item: (item[0], (item[1][\"Quantity\"] * item[1][\"Price per Item\"]) +\n\u001b[1;32m     11\u001b[0m                   (10 if (item[1][\"Quantity\"] * item[1][\"Price per Item\"]) < 100 else 0)),\n",
            "\u001b[0;31mTypeError\u001b[0m: 'list' object is not callable"
          ]
        }
      ]
    }
  ]
}